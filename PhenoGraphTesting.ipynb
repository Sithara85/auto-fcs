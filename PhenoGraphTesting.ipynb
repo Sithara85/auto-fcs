{
 "cells": [
  {
   "cell_type": "code",
   "execution_count": 19,
   "metadata": {
    "collapsed": false,
    "deletable": true,
    "editable": true
   },
   "outputs": [
    {
     "data": {
      "text/plain": [
       "array([[  7.10143994e+03,   6.41100000e+03,   7.25939844e+04, ...,\n",
       "          3.29300003e+01,  -2.62020020e+02,   5.20000000e+01],\n",
       "       [  1.56955195e+04,   1.41410000e+04,   7.27403750e+04, ...,\n",
       "          3.21290009e+02,   1.30680008e+02,   5.25000000e+01],\n",
       "       [  7.79075977e+03,   7.56600000e+03,   6.74828594e+04, ...,\n",
       "          1.60200005e+01,  -3.96000004e+00,   5.25999985e+01],\n",
       "       ..., \n",
       "       [  8.01115967e+03,   7.49700000e+03,   7.00306016e+04, ...,\n",
       "         -4.53899994e+01,   6.54059998e+02,   3.22239004e+04],\n",
       "       [  7.42367969e+03,   6.78300000e+03,   7.17261328e+04, ...,\n",
       "          1.86899994e+02,   2.79839996e+02,   3.22241992e+04],\n",
       "       [  4.69178398e+04,   3.97110000e+04,   7.74296172e+04, ...,\n",
       "          2.19830002e+02,   6.19740051e+02,   3.22253008e+04]], dtype=float32)"
      ]
     },
     "execution_count": 19,
     "metadata": {},
     "output_type": "execute_result"
    }
   ],
   "source": [
    "import phenograph\n",
    "import fcsparser\n",
    "import matplotlib\n",
    "import matplotlib.pyplot\n",
    "import pylab\n",
    "\n",
    "path = \"/Volumes/Beta/data/FCS/fcs/2016-05-26_PANEL 1_ZF_panel one_F1631027_002.fcs\"\n",
    "meta, data = fcsparser.parse(path, meta_data_only=False, reformat_meta=True)\n",
    "data=data.values\n",
    "\n",
    "data"
   ]
  },
  {
   "cell_type": "code",
   "execution_count": 20,
   "metadata": {
    "collapsed": false,
    "deletable": true,
    "editable": true
   },
   "outputs": [
    {
     "name": "stdout",
     "output_type": "stream",
     "text": [
      "Finding 30 nearest neighbors using minkowski metric and 'auto' algorithm\n",
      "Neighbors computed in 12.503201007843018 seconds\n",
      "Jaccard graph constructed in 12.850852966308594 seconds\n",
      "Wrote graph to binary file in 6.4093708992004395 seconds\n",
      "Running Louvain modularity optimization\n",
      "After 1 runs, maximum modularity is Q = 0.845839\n",
      "Louvain completed 21 runs in 60.059911012649536 seconds\n",
      "PhenoGraph complete in 93.06203103065491 seconds\n"
     ]
    }
   ],
   "source": [
    "communities, graph, Q = phenograph.cluster(data)"
   ]
  },
  {
   "cell_type": "code",
   "execution_count": 21,
   "metadata": {
    "collapsed": false,
    "deletable": true,
    "editable": true
   },
   "outputs": [
    {
     "data": {
      "text/plain": [
       "array([11, 11,  1, ...,  9,  9, 21])"
      ]
     },
     "execution_count": 21,
     "metadata": {},
     "output_type": "execute_result"
    }
   ],
   "source": [
    "communities"
   ]
  },
  {
   "cell_type": "code",
   "execution_count": 22,
   "metadata": {
    "collapsed": false,
    "deletable": true,
    "editable": true
   },
   "outputs": [
    {
     "data": {
      "text/plain": [
       "0.845839"
      ]
     },
     "execution_count": 22,
     "metadata": {},
     "output_type": "execute_result"
    }
   ],
   "source": [
    "graph\n",
    "Q\n"
   ]
  },
  {
   "cell_type": "code",
   "execution_count": 23,
   "metadata": {
    "collapsed": false,
    "deletable": true,
    "editable": true
   },
   "outputs": [],
   "source": [
    "from py2cytoscape.data.cyrest_client import CyRestClient\n"
   ]
  },
  {
   "cell_type": "code",
   "execution_count": 24,
   "metadata": {
    "collapsed": false
   },
   "outputs": [
    {
     "name": "stdout",
     "output_type": "stream",
     "text": [
      "76\n"
     ]
    }
   ],
   "source": [
    "cy = CyRestClient()\n",
    "network = cy.network.create(name='test', collection='My network collection')\n",
    "print(network.get_id())"
   ]
  },
  {
   "cell_type": "code",
   "execution_count": 25,
   "metadata": {
    "collapsed": false
   },
   "outputs": [
    {
     "data": {
      "text/plain": [
       "scipy.sparse.coo.coo_matrix"
      ]
     },
     "execution_count": 25,
     "metadata": {},
     "output_type": "execute_result"
    }
   ],
   "source": [
    "type(graph)"
   ]
  },
  {
   "cell_type": "code",
   "execution_count": null,
   "metadata": {
    "collapsed": true
   },
   "outputs": [],
   "source": []
  }
 ],
 "metadata": {
  "kernelspec": {
   "display_name": "Python 3",
   "language": "python",
   "name": "python3"
  },
  "language_info": {
   "codemirror_mode": {
    "name": "ipython",
    "version": 3
   },
   "file_extension": ".py",
   "mimetype": "text/x-python",
   "name": "python",
   "nbconvert_exporter": "python",
   "pygments_lexer": "ipython3",
   "version": "3.5.2"
  }
 },
 "nbformat": 4,
 "nbformat_minor": 2
}
