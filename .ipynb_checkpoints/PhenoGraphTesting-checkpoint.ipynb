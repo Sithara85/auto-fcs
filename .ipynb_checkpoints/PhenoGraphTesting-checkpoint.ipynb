{
 "cells": [
  {
   "cell_type": "code",
   "execution_count": 47,
   "metadata": {
    "collapsed": false,
    "deletable": true,
    "editable": true
   },
   "outputs": [
    {
     "data": {
      "application/javascript": [
       "if (window['cytoscape'] === undefined) {\n",
       "    var paths = {\n",
       "        cytoscape: 'http://cytoscape.github.io/cytoscape.js/api/cytoscape.js-latest/cytoscape.min'\n",
       "    };\n",
       "\n",
       "    require.config({\n",
       "        paths: paths\n",
       "    });\n",
       "\n",
       "    require(['cytoscape'], function (cytoscape) {\n",
       "        console.log('Loading Cytoscape.js Module...');\n",
       "        window['cytoscape'] = cytoscape;\n",
       "\n",
       "        var event = document.createEvent(\"HTMLEvents\");\n",
       "        event.initEvent(\"load_cytoscape\", true, false);\n",
       "        window.dispatchEvent(event);\n",
       "    });\n",
       "}"
      ],
      "text/plain": [
       "<IPython.core.display.Javascript object>"
      ]
     },
     "metadata": {},
     "output_type": "display_data"
    },
    {
     "data": {
      "text/plain": [
       "array([[  7.10143994e+03,   6.41100000e+03,   7.25939844e+04, ...,\n",
       "          3.29300003e+01,  -2.62020020e+02,   5.20000000e+01],\n",
       "       [  1.56955195e+04,   1.41410000e+04,   7.27403750e+04, ...,\n",
       "          3.21290009e+02,   1.30680008e+02,   5.25000000e+01],\n",
       "       [  7.79075977e+03,   7.56600000e+03,   6.74828594e+04, ...,\n",
       "          1.60200005e+01,  -3.96000004e+00,   5.25999985e+01],\n",
       "       ..., \n",
       "       [  8.01115967e+03,   7.49700000e+03,   7.00306016e+04, ...,\n",
       "         -4.53899994e+01,   6.54059998e+02,   3.22239004e+04],\n",
       "       [  7.42367969e+03,   6.78300000e+03,   7.17261328e+04, ...,\n",
       "          1.86899994e+02,   2.79839996e+02,   3.22241992e+04],\n",
       "       [  4.69178398e+04,   3.97110000e+04,   7.74296172e+04, ...,\n",
       "          2.19830002e+02,   6.19740051e+02,   3.22253008e+04]], dtype=float32)"
      ]
     },
     "execution_count": 47,
     "metadata": {},
     "output_type": "execute_result"
    }
   ],
   "source": [
    "import phenograph\n",
    "import fcsparser\n",
    "import matplotlib\n",
    "import matplotlib.pyplot\n",
    "import pylab\n",
    "\n",
    "# Boilerplate: Import required packages\n",
    "from py2cytoscape.data.cyrest_client import CyRestClient\n",
    "from py2cytoscape.data.util_network import NetworkUtil as util\n",
    "from py2cytoscape.data.style import StyleUtil as s_util\n",
    "import py2cytoscape.cytoscapejs as renderer\n",
    "from IPython.display import Image\n",
    "import networkx as nx\n",
    "from networkx.drawing import nx_pydot as pyd\n",
    "import igraph as ig\n",
    "import numpy as np\n",
    "import pandas as pd\n",
    "from py2cytoscape import *\n",
    "\n",
    "path = \"/Volumes/Beta/data/FCS/fcs/2016-05-26_PANEL 1_ZF_panel one_F1631027_002.fcs\"\n",
    "meta, data = fcsparser.parse(path, meta_data_only=False, reformat_meta=True)\n",
    "data=data.values\n",
    "\n",
    "data"
   ]
  },
  {
   "cell_type": "code",
   "execution_count": 20,
   "metadata": {
    "collapsed": false,
    "deletable": true,
    "editable": true
   },
   "outputs": [
    {
     "name": "stdout",
     "output_type": "stream",
     "text": [
      "Finding 30 nearest neighbors using minkowski metric and 'auto' algorithm\n",
      "Neighbors computed in 12.503201007843018 seconds\n",
      "Jaccard graph constructed in 12.850852966308594 seconds\n",
      "Wrote graph to binary file in 6.4093708992004395 seconds\n",
      "Running Louvain modularity optimization\n",
      "After 1 runs, maximum modularity is Q = 0.845839\n",
      "Louvain completed 21 runs in 60.059911012649536 seconds\n",
      "PhenoGraph complete in 93.06203103065491 seconds\n"
     ]
    }
   ],
   "source": [
    "communities, graph, Q = phenograph.cluster(data)"
   ]
  },
  {
   "cell_type": "code",
   "execution_count": null,
   "metadata": {
    "collapsed": false
   },
   "outputs": [],
   "source": [
    "cy = CyRestClient()\n",
    "network = cy.network.create(name='test', collection='FCS_TEST')\n",
    "print(network.get_id())\n",
    "\n",
    "view_id_list = network.get_views() \n",
    "\n",
    "view1 = network.get_view(view_id_list[0], format='view')"
   ]
  },
  {
   "cell_type": "code",
   "execution_count": null,
   "metadata": {
    "collapsed": false
   },
   "outputs": [],
   "source": [
    "g =  nx.from_scipy_sparse_matrix(graph)"
   ]
  },
  {
   "cell_type": "code",
   "execution_count": null,
   "metadata": {
    "collapsed": false
   },
   "outputs": [],
   "source": [
    "deg = nx.degree(g)\n",
    "btw = nx.betweenness_centrality(g)\n",
    "\n",
    "nx.set_node_attributes(g, 'degree', deg)\n",
    "nx.set_node_attributes(g, 'betweenness', btw)\n",
    "g_cy = cy.network.create_from_networkx(g)\n",
    "cy.layout.apply(name='kamada-kawai', network=g_cy)\n",
    "directed = cy.style.create('Directed')\n",
    "cy.style.apply(directed, network=g_cy)\n",
    "result = cy.edgebundling.apply(g_cy)\n",
    "network_png = g_cy.get_png()\n",
    "\n",
    "from IPython.display import Image\n",
    "Image(network_png)"
   ]
  },
  {
   "cell_type": "code",
   "execution_count": null,
   "metadata": {
    "collapsed": true
   },
   "outputs": [],
   "source": []
  }
 ],
 "metadata": {
  "kernelspec": {
   "display_name": "Python 3",
   "language": "python",
   "name": "python3"
  },
  "language_info": {
   "codemirror_mode": {
    "name": "ipython",
    "version": 3
   },
   "file_extension": ".py",
   "mimetype": "text/x-python",
   "name": "python",
   "nbconvert_exporter": "python",
   "pygments_lexer": "ipython3",
   "version": "3.5.2"
  }
 },
 "nbformat": 4,
 "nbformat_minor": 2
}
