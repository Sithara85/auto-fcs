{
 "cells": [
  {
   "cell_type": "code",
   "execution_count": 2,
   "metadata": {
    "collapsed": false
   },
   "outputs": [],
   "source": [
    "#This is a python 2.7 nb, ok cool"
   ]
  },
  {
   "cell_type": "code",
   "execution_count": null,
   "metadata": {
    "collapsed": true
   },
   "outputs": [],
   "source": [
    "from FlowCytometryTools import FCMeasurement, ThresholdGate\n",
    "import os, FlowCytometryTools\n",
    "from pylab import *\n",
    "\n",
    "# Locate sample data included with this package\n",
    "datadir = os.path.join(FlowCytometryTools.__path__[0], 'tests', 'data', 'Plate01')\n",
    "datafile = os.path.join(datadir, 'RFP_Well_A3.fcs')\n",
    "\n",
    "# datafile = '[insert path to your own fcs file]' \n",
    "\n",
    "# Load data\n",
    "tsample = FCMeasurement(ID='Test Sample', datafile=datafile)\n",
    "tsample = tsample.transform('hlog', channels=['Y2-A', 'B1-A', 'V2-A'], b=500.0)\n",
    "\n",
    "# Plot\n",
    "tsample.plot(['Y2-A', 'B1-A'], kind='scatter', alpha=0.6, color='gray');\n",
    "grid(True)\n",
    "\n",
    "#show() # <-- Uncomment when running as a script.\n"
   ]
  }
 ],
 "metadata": {
  "kernelspec": {
   "display_name": "Python 2",
   "language": "python",
   "name": "python2"
  },
  "language_info": {
   "codemirror_mode": {
    "name": "ipython",
    "version": 2
   },
   "file_extension": ".py",
   "mimetype": "text/x-python",
   "name": "python",
   "nbconvert_exporter": "python",
   "pygments_lexer": "ipython2",
   "version": "2.7.12"
  }
 },
 "nbformat": 4,
 "nbformat_minor": 2
}
